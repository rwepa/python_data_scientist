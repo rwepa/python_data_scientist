{
 "cells": [
  {
   "cell_type": "markdown",
   "id": "70267ce3-e9fb-45fe-bd53-2343ceeb0a6b",
   "metadata": {},
   "source": [
    "File     : 2024-03.data_mining.ipynb\n",
    "\n",
    "Title    : Day3 資料探勘技術介紹\n",
    "\n",
    "Author   : Ming-Chang Lee\n",
    "\n",
    "Date     : 2024.10.03\n",
    "\n",
    "Email    : alan9956@gmail.com\n",
    "\n",
    "YouTube  : https://www.youtube.com/@alan9956\n",
    "\n",
    "RWEPA    : http://rwepa.blogspot.tw/\n",
    "\n",
    "GitHub   : https://github.com/rwepa"
   ]
  },
  {
   "cell_type": "markdown",
   "id": "0c52039a-5a4f-4279-a100-6231d53c20d7",
   "metadata": {},
   "source": [
    "# 主題：113學年度資產管理大數據與演算法應用實務學分課程-程式語言應用\n",
    "# 主辦單位：財團法人中華民國證券暨期貨市場發展基金會/人才培訓中心\n",
    "# 承辦單位：國立臺中科技大學財務金融系\n",
    "\n",
    "+ Day1 09/19 Python 語言簡介\n",
    "+ Day2 09/26 Python 機器學習 \n",
    "+ Day3 10/03 🌸資料探勘技術介紹🌸\n",
    "+ Day4 10/17 Python程式應用實例\n",
    "+ Day5 10/24 大數據程式語言評量測驗與解析"
   ]
  },
  {
   "cell_type": "markdown",
   "id": "b0732265-fcda-4b1b-8be3-7ca20f8bda1b",
   "metadata": {},
   "source": [
    "# Day3 10/03 資料探勘技術介紹\n",
    "\n",
    "大綱\n",
    "\n",
    "1.資料探勘簡介\n",
    "\n",
    "2.資料探勘（Data Mining）與機器學習（Machine Learning）之比較\n",
    "\n",
    "3.K-means集群法\n",
    "\n",
    "4.期末報告-K-means集群法"
   ]
  },
  {
   "cell_type": "markdown",
   "id": "b88afc3d-d614-4d7d-aabd-e65fad03de45",
   "metadata": {},
   "source": [
    "# 1.資料探勘簡介\n",
    "\n",
    "+ 資料探勘是一種用於發現隱藏在大量資料中的規則、關係、趨勢或樣式（patterns）的方法。\n",
    "\n",
    "+ 資料探勘是資料分析的進階工作。一般工作流程為: 資料分析 -> 資料探勘 -> 機器學習 -> 深度學習 -> 生成式學習。\n",
    "\n",
    "+ 資料探勘可以使用跨產業資料探勘標準作業流程 CRISP-DM。\n",
    "\n",
    "+ https://github.com/rwepa/python_data_scientist/blob/main/2024-02.machine_learning.py"
   ]
  },
  {
   "cell_type": "markdown",
   "id": "0922797c-bde0-46b0-9b9a-dc10c7ed7eee",
   "metadata": {},
   "source": [
    "# 2.資料探勘（Data Mining）與機器學習（Machine Learning）之比較\n",
    "資料探勘和機器學習都是用於處理和分析資料的技術，但它們具有不同的目的、方法與應用。\n",
    "\n",
    "**資料探勘**\n",
    "\n",
    "+ 目的是發現隱規則、關係、趨勢或樣式。\n",
    "\n",
    "+ 方法是利用統計分析、模式識別等技術來分析有價值結果。\n",
    "\n",
    "+ 目標是發現新的知識或洞察力，並將其轉換成可理解的結構或是進一步使用與創造資料的價值（Value）。\n",
    "\n",
    "**機器學習**\n",
    "\n",
    "+ 目的是訓練一個模型，使其能夠根據資料進行預測或決策。\n",
    "\n",
    "+ 方法是利用監督式學習、非監督式學習等技術來訓型，並提供未來決策之參考。\n",
    "\n",
    "+ 目標是建立一個可用的預測模型並且能夠做出準確決策。\n",
    "\n",
    "**關係**\n",
    "\n",
    "+ 資料探勘和機器學習之間有著緊密的聯繫。資料探勘可以提供給機器學習大量的資料，使其能夠訓練出更好的模型。\n",
    "\n",
    "+ 資料探勘強調針對已經發生的結果作更好的解釋，而機器學習目的是機器懂得思考（演算法），並提供更好的決策和未來預測（Forecasting）。"
   ]
  },
  {
   "cell_type": "markdown",
   "id": "04dc2140-a723-421b-8bab-3b88ad8677f7",
   "metadata": {},
   "source": [
    "# 3.K-means集群法"
   ]
  },
  {
   "cell_type": "markdown",
   "id": "9802a4bf-7902-4fda-ae9d-be1a73a2f811",
   "metadata": {},
   "source": [
    "集群分析是一種用於分群資料集的方法，它能夠將相似的資料點聚合在一起，形成一個或多個集群。\n",
    "\n",
    "集群是指有一定區域內的資料點彼此之間相似度最高，而與其他非該集群的資料點相似度最低，相似度可以使用距離等特徵加以衡量。\n",
    "\n",
    "**常見的集群演算法**\n",
    "\n",
    "1. K-means clustering（K平均集群法）—須事先決定集群數。\n",
    "2. Hierarchical clustering（層級聚類）—不用事先決定集群數。\n",
    "3. DBSCAN (Density-Based Spatial Clustering of Applications with Noise，基於密度之含雜訊空間集群法)—不用事先決定集群數。\n",
    "\n",
    "**集群數的決定**\n",
    "\n",
    "決定集群數（K）的問題是集群演算法中一個難題。沒有一個通用的方法能夠得出最適合的集群數。\n",
    "\n",
    "以下是一些選擇集群數的方法：\n",
    "\n",
    "1. 視覺化檢查: 根據資料分布進行視覺檢查，嘗試找出自然群組。\n",
    "\n",
    "2. K-means演算法: 透過多次執行K-means演算法，使用不同K值執行K-means演算法，並比較結果，以選擇最佳的集群數。\n",
    "\n",
    "3. silhouette係數: 利用silhouette係數來評估每個K值對於資料分群的效果，挑選出最好的集群數。\n",
    "\n",
    "4. cross-validation: 透過交叉驗證（cross-validation）方法，以不同的K值執行，並比較結果，以選擇最佳的集群數。\n",
    "\n",
    "最終，決定集群數的方法需要根據具體的資料和使用情境進行選擇。"
   ]
  },
  {
   "cell_type": "markdown",
   "id": "96b68d72-77aa-4a11-8110-ba45c54c3bab",
   "metadata": {},
   "source": [
    "# 4.期末報告-K-means集群法"
   ]
  },
  {
   "cell_type": "markdown",
   "id": "5af833e9-5a02-488f-b0e5-46ac93b41076",
   "metadata": {},
   "source": [
    "參考 python_report_id_name.ipynb"
   ]
  }
 ],
 "metadata": {
  "kernelspec": {
   "display_name": "Python 3 (ipykernel)",
   "language": "python",
   "name": "python3"
  },
  "language_info": {
   "codemirror_mode": {
    "name": "ipython",
    "version": 3
   },
   "file_extension": ".py",
   "mimetype": "text/x-python",
   "name": "python",
   "nbconvert_exporter": "python",
   "pygments_lexer": "ipython3",
   "version": "3.12.4"
  }
 },
 "nbformat": 4,
 "nbformat_minor": 5
}
