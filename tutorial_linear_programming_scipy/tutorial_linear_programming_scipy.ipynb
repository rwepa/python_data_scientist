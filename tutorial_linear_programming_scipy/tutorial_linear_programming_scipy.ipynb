{
 "cells": [
  {
   "attachments": {},
   "cell_type": "markdown",
   "id": "18f315a3-422b-4350-b897-c049eef4f0ce",
   "metadata": {},
   "source": [
    "# Topic: 線性規劃-使用 Python - Scipy 模組\n",
    "\n",
    "File: tutorial_linear_programming_scipy.ipynb\n",
    "\n",
    "Author: Ming-Chang Lee\n",
    "\n",
    "Email: alan9956@gmail.com\n",
    "\n",
    "Date: 2025.04.01\n",
    "\n",
    "References:\n",
    "\n",
    "+ https://realpython.com/linear-programming-python/\n",
    "\n",
    "+ https://docs.scipy.org/doc/scipy/reference/generated/scipy.optimize.linprog.html"
   ]
  },
  {
   "cell_type": "markdown",
   "id": "0fdf6c74-1831-4ba4-b92a-71d65d0772e9",
   "metadata": {},
   "source": [
    "# 原題目\n",
    "$Max: z = x + 2y$\n",
    "\n",
    "$subject to:$\n",
    "\n",
    "$2x + y \\le 20$\n",
    "\n",
    "$-4x + 5y \\le 10$\n",
    "\n",
    "$-x+2y \\ge -2$\n",
    "\n",
    "$-x + 5y = 15$\n",
    "\n",
    "$x \\ge 0$\n",
    "\n",
    "$y \\ge 0$"
   ]
  },
  {
   "cell_type": "markdown",
   "id": "42637ccb-76fc-4b3b-82d4-9f12180755c8",
   "metadata": {},
   "source": [
    "## 使用 linprog 函數之二大需求:\n",
    "\n",
    "1.目標式只提供最小化（而不是最大化）問題.\n",
    "\n",
    "解決方法: maximizing z = x + 2y --> minimize 原方程式加上負號 (−z = −x − 2y)\n",
    "\n",
    "2.限制式不允許大於或等於符號 (≥) , 只可以使用小於或等於符號  (≤).\n",
    "\n",
    "解決方法: -x + 2y >= -2 --> x - 2y <= 2 (左右二邊各乘以負號, 中間 >= 改為 <=)"
   ]
  },
  {
   "cell_type": "markdown",
   "id": "90af9162-5003-4690-b809-5d119b585fc3",
   "metadata": {},
   "source": [
    "# 修改後題目\n",
    "$ Min: -z = -x - 2 y$\n",
    "\n",
    "$subject to:$\n",
    "\n",
    "$2 x + y \\le 20$\n",
    "\n",
    "$-4x + 5y \\le 10$\n",
    "\n",
    "$x-2y \\le 2$\n",
    "\n",
    "$-x + 5y = 15$\n",
    "\n",
    "$x \\ge 0$\n",
    "\n",
    "$y \\ge 0$"
   ]
  },
  {
   "cell_type": "code",
   "execution_count": 1,
   "id": "aa7fc7c9-cd89-4a16-a0eb-c596ca9ba75f",
   "metadata": {},
   "outputs": [],
   "source": [
    "# 載入模組\n",
    "from scipy.optimize import linprog"
   ]
  },
  {
   "cell_type": "code",
   "execution_count": 2,
   "id": "d73add40-a912-4d36-a28c-68c87f936aed",
   "metadata": {},
   "outputs": [],
   "source": [
    "# 目標式之係數\n",
    "obj = [-1, -2]\n",
    "#      ─┬  ─┬\n",
    "#       │   └┤ Coefficient for y\n",
    "#       └────┤ Coefficient for x"
   ]
  },
  {
   "cell_type": "code",
   "execution_count": 3,
   "id": "b5b13c0e-3eda-49db-a783-5215736f7e4e",
   "metadata": {},
   "outputs": [],
   "source": [
    "# 不等式之左邊係數\n",
    "lhs_ineq = [[ 2,  1],  # Red constraint left side\n",
    "            [-4,  5],  # Blue constraint left side\n",
    "            [ 1, -2]]  # Yellow constraint left side"
   ]
  },
  {
   "cell_type": "code",
   "execution_count": 4,
   "id": "2b835f30-454f-4512-bd60-5c2654150124",
   "metadata": {},
   "outputs": [],
   "source": [
    "# 不等式之右邊係數\n",
    "rhs_ineq = [20,  # Red constraint right side\n",
    "            10,  # Blue constraint right side\n",
    "             2]  # Yellow constraint right side"
   ]
  },
  {
   "cell_type": "code",
   "execution_count": 5,
   "id": "73ff3761-54a9-434f-ba2b-12a0153158ea",
   "metadata": {},
   "outputs": [],
   "source": [
    "# 等式之左邊係數\n",
    "lhs_eq = [[-1, 5]]  # Green constraint left side"
   ]
  },
  {
   "cell_type": "code",
   "execution_count": 6,
   "id": "2e269ad5-87e3-4ed6-b687-6542617b9a41",
   "metadata": {},
   "outputs": [],
   "source": [
    "# 等式之右邊係數\n",
    "rhs_eq = [15]       # Green constraint right side"
   ]
  },
  {
   "cell_type": "code",
   "execution_count": 7,
   "id": "13431564-a56e-47c1-a3db-d885cec1cb06",
   "metadata": {},
   "outputs": [],
   "source": [
    "# 定義每個變數之範圍\n",
    "bnd = [(0, float(\"inf\")),  # Bounds of x, 即 x >= 0\n",
    "       (0, float(\"inf\"))]  # Bounds of y, 即 y >= 0"
   ]
  },
  {
   "cell_type": "code",
   "execution_count": 8,
   "id": "2e5ebade-319f-477a-8fff-f72ca8c2f55d",
   "metadata": {},
   "outputs": [
    {
     "name": "stderr",
     "output_type": "stream",
     "text": [
      "C:\\Users\\rwepa\\AppData\\Local\\Temp\\ipykernel_40632\\222378453.py:3: DeprecationWarning: `method='simplex'` is deprecated and will be removed in SciPy 1.11.0. Please use one of the HiGHS solvers (e.g. `method='highs'`) in new code.\n",
      "  opt = linprog(c=obj, A_ub=lhs_ineq, b_ub=rhs_ineq,\n"
     ]
    }
   ],
   "source": [
    "# 找出最佳解\n",
    "# DeprecationWarning\n",
    "opt = linprog(c=obj, A_ub=lhs_ineq, b_ub=rhs_ineq,\n",
    "              A_eq=lhs_eq, b_eq=rhs_eq, bounds=bnd,\n",
    "              method=\"simplex\")"
   ]
  },
  {
   "cell_type": "code",
   "execution_count": 9,
   "id": "1138f78a-32f7-4928-afb7-cb00e7e84387",
   "metadata": {},
   "outputs": [],
   "source": [
    "opt = linprog(c=obj, A_ub=lhs_ineq, b_ub=rhs_ineq,\n",
    "              A_eq=lhs_eq, b_eq=rhs_eq, bounds=bnd,\n",
    "              method=\"highs\")"
   ]
  },
  {
   "cell_type": "code",
   "execution_count": 10,
   "id": "f8e7546a-1cd2-4aa1-b6f7-8fd4ef80c011",
   "metadata": {},
   "outputs": [
    {
     "name": "stdout",
     "output_type": "stream",
     "text": [
      "        message: Optimization terminated successfully. (HiGHS Status 7: Optimal)\n",
      "        success: True\n",
      "         status: 0\n",
      "            fun: -16.818181818181817\n",
      "              x: [ 7.727e+00  4.545e+00]\n",
      "            nit: 0\n",
      "          lower:  residual: [ 7.727e+00  4.545e+00]\n",
      "                 marginals: [ 0.000e+00  0.000e+00]\n",
      "          upper:  residual: [       inf        inf]\n",
      "                 marginals: [ 0.000e+00  0.000e+00]\n",
      "          eqlin:  residual: [ 0.000e+00]\n",
      "                 marginals: [-2.727e-01]\n",
      "        ineqlin:  residual: [ 0.000e+00  1.818e+01  3.364e+00]\n",
      "                 marginals: [-6.364e-01 -0.000e+00 -0.000e+00]\n",
      " mip_node_count: 0\n",
      " mip_dual_bound: 0.0\n",
      "        mip_gap: 0.0\n"
     ]
    }
   ],
   "source": [
    "# 顯示結果\n",
    "print(opt)"
   ]
  },
  {
   "cell_type": "code",
   "execution_count": 11,
   "id": "91ae2d76-a09e-41f2-8638-687df93d0561",
   "metadata": {},
   "outputs": [
    {
     "name": "stdout",
     "output_type": "stream",
     "text": [
      "-16.818181818181817\n"
     ]
    }
   ],
   "source": [
    "# 顯示目標值\n",
    "print(opt.fun)"
   ]
  },
  {
   "cell_type": "code",
   "execution_count": 12,
   "id": "c22b7bc4-3c1d-4100-9d77-8eba250203f9",
   "metadata": {},
   "outputs": [
    {
     "name": "stdout",
     "output_type": "stream",
     "text": [
      "True\n"
     ]
    }
   ],
   "source": [
    "# 結果是成功\n",
    "print(opt.success)"
   ]
  },
  {
   "cell_type": "code",
   "execution_count": 13,
   "id": "8ca75148-aca2-47c9-bf61-91100d54de50",
   "metadata": {},
   "outputs": [
    {
     "name": "stdout",
     "output_type": "stream",
     "text": [
      "[7.72727273 4.54545455]\n"
     ]
    }
   ],
   "source": [
    "# 顯示決策變數\n",
    "print(opt.x) # [7.72727273 4.54545455]"
   ]
  },
  {
   "attachments": {},
   "cell_type": "markdown",
   "id": "d5f51bb4-139b-4b61-8a3b-79c93c4a47dc",
   "metadata": {},
   "source": [
    "# 偉德玻璃公司\n",
    "\n",
    "來源: 吳坤山／管理科學概論（Hillier／Introduction to Management Science 6e）／6版, 2020 - 第2章 線性規劃：基本概念\n",
    "\n",
    "P = 利潤\n",
    "\n",
    "D = 玻璃門的生產數量 \n",
    "\n",
    "W = 木框窗戶的生產數量\n",
    "\n",
    "最大化 P = $300D + $500W\n",
    "\n",
    "受限於:\n",
    "\n",
    "D\t\t  ≤ 4\n",
    "\n",
    "         2W\t  ≤ 12\n",
    "         \n",
    "3D + 2W\t  ≤ 18\n",
    "\n",
    "且 \n",
    "\t\tD ≥ 0, W ≥ 0\n"
   ]
  },
  {
   "cell_type": "code",
   "execution_count": 14,
   "id": "7db2e8d6-4ff5-46c5-bc73-3b0d84fec3e3",
   "metadata": {},
   "outputs": [],
   "source": [
    "# 目標式之係數\n",
    "obj = [-300, -500]\n",
    "#      ─┬  ─┬\n",
    "#       │   └┤ Coefficient for y\n",
    "#       └────┤ Coefficient for x\n",
    "\n",
    "# 不等式之左邊係數\n",
    "lhs_ineq = [[ 1,  0],  \n",
    "            [ 0,  2],  \n",
    "            [ 3,  2]]  \n",
    "\n",
    "# 不等式之右邊係數\n",
    "rhs_ineq = [4,  \n",
    "            12,\n",
    "             18]\n",
    "\n",
    "# 等式之左邊係數, 本例沒有等式\n",
    "# lhs_eq = [[-1, 5]]  # Green constraint left side\n",
    "\n",
    "# 等式之右邊係數, 本例沒有等式\n",
    "# rhs_eq = [15]       # Green constraint right side\n",
    "\n",
    "# 定義每個變數之範圍\n",
    "bnd = [(0, float(\"inf\")),  # Bounds of x, 即 x >= 0\n",
    "       (0, float(\"inf\"))]  # Bounds of y, 即 y >= 0\n",
    "\n",
    "# 找出最佳解\n",
    "# DeprecationWarning\n",
    "opt = linprog(c=obj, A_ub=lhs_ineq, b_ub=rhs_ineq,\n",
    "              # A_eq=lhs_eq, b_eq=rhs_eq, \n",
    "              bounds=bnd,\n",
    "              method=\"highs\")"
   ]
  },
  {
   "cell_type": "code",
   "execution_count": 15,
   "id": "67073b0c-e02d-417b-b150-fb350875b57f",
   "metadata": {},
   "outputs": [
    {
     "name": "stdout",
     "output_type": "stream",
     "text": [
      "        message: Optimization terminated successfully. (HiGHS Status 7: Optimal)\n",
      "        success: True\n",
      "         status: 0\n",
      "            fun: -3600.0\n",
      "              x: [ 2.000e+00  6.000e+00]\n",
      "            nit: 1\n",
      "          lower:  residual: [ 2.000e+00  6.000e+00]\n",
      "                 marginals: [ 0.000e+00  0.000e+00]\n",
      "          upper:  residual: [       inf        inf]\n",
      "                 marginals: [ 0.000e+00  0.000e+00]\n",
      "          eqlin:  residual: []\n",
      "                 marginals: []\n",
      "        ineqlin:  residual: [ 2.000e+00  0.000e+00  0.000e+00]\n",
      "                 marginals: [-0.000e+00 -1.500e+02 -1.000e+02]\n",
      " mip_node_count: 0\n",
      " mip_dual_bound: 0.0\n",
      "        mip_gap: 0.0\n"
     ]
    }
   ],
   "source": [
    "# 顯示結果\n",
    "print(opt)"
   ]
  },
  {
   "cell_type": "code",
   "execution_count": 16,
   "id": "f5b9f896-d4ba-46ce-b4b5-cf71b45fa00d",
   "metadata": {},
   "outputs": [
    {
     "name": "stdout",
     "output_type": "stream",
     "text": [
      "True\n"
     ]
    }
   ],
   "source": [
    "# 結果是成功\n",
    "print(opt.success)"
   ]
  },
  {
   "cell_type": "code",
   "execution_count": 17,
   "id": "fa1f0edd-5721-4d90-bc24-7a46793a9a1e",
   "metadata": {},
   "outputs": [
    {
     "name": "stdout",
     "output_type": "stream",
     "text": [
      "[2. 6.]\n"
     ]
    }
   ],
   "source": [
    "# 顯示決策變數\n",
    "print(opt.x) # [2. 6.]"
   ]
  },
  {
   "cell_type": "code",
   "execution_count": 18,
   "id": "c2a129fd-514b-4eea-9f70-5c813fee4640",
   "metadata": {},
   "outputs": [],
   "source": [
    "# 結果與Excel規劃求解增益集相同."
   ]
  }
 ],
 "metadata": {
  "kernelspec": {
   "display_name": "Python 3 (ipykernel)",
   "language": "python",
   "name": "python3"
  },
  "language_info": {
   "codemirror_mode": {
    "name": "ipython",
    "version": 3
   },
   "file_extension": ".py",
   "mimetype": "text/x-python",
   "name": "python",
   "nbconvert_exporter": "python",
   "pygments_lexer": "ipython3",
   "version": "3.12.7"
  }
 },
 "nbformat": 4,
 "nbformat_minor": 5
}
